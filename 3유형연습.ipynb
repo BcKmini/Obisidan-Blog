{
 "cells": [
  {
   "cell_type": "code",
   "execution_count": 39,
   "metadata": {},
   "outputs": [
    {
     "data": {
      "text/plain": [
       "np.float64(0.448994051143797)"
      ]
     },
     "execution_count": 39,
     "metadata": {},
     "output_type": "execute_result"
    }
   ],
   "source": [
    "import pandas as pd\n",
    "df = pd.read_csv('https://raw.githubusercontent.com/Datamanim/datarepo/refs/heads/master/krdatacertificate/s1.csv')\n",
    "#df.head()\n",
    "import numpy as np\n",
    "df['Resistin'] = np.log(df['Resistin'])\n",
    "\n",
    "df1 = df[df['Classification'] ==1]['Resistin']\n",
    "df2 = df[df['Classification'] ==2]['Resistin']\n",
    "\n",
    "var1 = df1.var()\n",
    "var2 = df2.var()\n",
    "\n",
    "#print(var1, var2)\n",
    "result = var2/var1 \n",
    "#print(round(result,3))\n",
    "\n",
    "n1 = len(df1) # 52\n",
    "n2 = len(df2) # 64\n",
    "\n",
    "result2 =  ((n1 - 1) * var1 + (n2-1) * var2) / (n1+n2-2)\n",
    "result2"
   ]
  }
 ],
 "metadata": {
  "kernelspec": {
   "display_name": "Python (mini)",
   "language": "python",
   "name": "mini"
  },
  "language_info": {
   "codemirror_mode": {
    "name": "ipython",
    "version": 3
   },
   "file_extension": ".py",
   "mimetype": "text/x-python",
   "name": "python",
   "nbconvert_exporter": "python",
   "pygments_lexer": "ipython3",
   "version": "3.9.21"
  }
 },
 "nbformat": 4,
 "nbformat_minor": 2
}
