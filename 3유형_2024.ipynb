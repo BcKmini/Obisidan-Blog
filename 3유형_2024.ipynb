{
 "cells": [
  {
   "cell_type": "code",
   "execution_count": null,
   "metadata": {},
   "outputs": [],
   "source": [
    "import pandas as pd\n",
    "\n",
    "df = pd.read_csv(\"./csv/Titanic.csv\")\n",
    "df.head(5)"
   ]
  },
  {
   "cell_type": "code",
   "execution_count": null,
   "metadata": {},
   "outputs": [],
   "source": [
    "import pandas as pd\n",
    "\n",
    "df = pd.read_csv(\"./csv/Titanic.csv\")\n",
    "\n",
    "\n",
    "# 1번 # 카이제곱 통계량, ttest_1samp -  단일표본, ttest_ind - 독립표본, ttest_rel - 대응표본\n",
    "from scipy.stats import chi2_contingency, ttest_1samp, ttest_ind, ttest_rel, chisquare\n",
    "table = pd.crosstab(df['Gender'], df['Survived'])\n",
    "# print(table)\n",
    "# print(chi2_contingency(table))\n",
    "\n",
    "# 2번 -> 이방법으로 사용하면 절편 고려 및 범주형 변수 고려를 안해도 괜찮다.\n",
    "from statsmodels.api import Logit, OLS #선형회귀, \n",
    "\n",
    "formula = 'Survived ~ Gender + SibSp + Parch + Fare'\n",
    "reuslt2 = Logit.from_formula(formula, df).fit()\n",
    "print(reuslt2.summary())\n",
    "\n",
    "import numpy as np \n",
    "print(round(np.exp(-0.3539),3))"
   ]
  },
  {
   "cell_type": "code",
   "execution_count": null,
   "metadata": {},
   "outputs": [],
   "source": [
    "import pandas as pd\n",
    "\n",
    "df = pd.read_csv(\"./csv/blood.csv\")\n",
    "df['diff'] = df['bp_after'] - df['bp_before']\n",
    "d_mean = round(df['diff'].mean(),2)\n",
    "# print(d_mean)\n",
    "\n",
    "from scipy import stats\n",
    "result = stats.ttest_rel(df['bp_after'], df['bp_before'], alternative='less')\n",
    "print(result)"
   ]
  },
  {
   "cell_type": "code",
   "execution_count": 41,
   "metadata": {},
   "outputs": [
    {
     "name": "stdout",
     "output_type": "stream",
     "text": [
      "                            OLS Regression Results                            \n",
      "==============================================================================\n",
      "Dep. Variable:                 cardio   R-squared:                       0.073\n",
      "Model:                            OLS   Adj. R-squared:                  0.073\n",
      "Method:                 Least Squares   F-statistic:                     1830.\n",
      "Date:                Sun, 15 Jun 2025   Prob (F-statistic):               0.00\n",
      "Time:                        17:33:35   Log-Likelihood:                -48162.\n",
      "No. Observations:               70000   AIC:                         9.633e+04\n",
      "Df Residuals:                   69996   BIC:                         9.637e+04\n",
      "Df Model:                           3                                         \n",
      "Covariance Type:            nonrobust                                         \n",
      "===============================================================================\n",
      "                  coef    std err          t      P>|t|      [0.025      0.975]\n",
      "-------------------------------------------------------------------------------\n",
      "const          -0.0965      0.010     -9.810      0.000      -0.116      -0.077\n",
      "weight          0.0054      0.000     42.140      0.000       0.005       0.006\n",
      "cholesterol     0.1466      0.003     54.238      0.000       0.141       0.152\n",
      "smoke          -0.0495      0.006     -7.696      0.000      -0.062      -0.037\n",
      "==============================================================================\n",
      "Omnibus:                   292868.519   Durbin-Watson:                   1.986\n",
      "Prob(Omnibus):                  0.000   Jarque-Bera (JB):             8705.864\n",
      "Skew:                           0.037   Prob(JB):                         0.00\n",
      "Kurtosis:                       1.274   Cond. No.                         410.\n",
      "==============================================================================\n",
      "\n",
      "Notes:\n",
      "[1] Standard Errors assume that the covariance matrix of the errors is correctly specified.\n"
     ]
    }
   ],
   "source": [
    "import pandas as pd\n",
    "import numpy as np\n",
    "\n",
    "df = pd.read_csv(\"https://raw.githubusercontent.com/JEunJin/BigData_python/refs/heads/master/bigdata_csvfile/cardiovascular_heart_disease_data.csv\")\n",
    "import statsmodels.api as sm\n",
    "\n",
    "X = sm.add_constant(df[['weight', 'cholesterol', 'smoke']])\n",
    "\n",
    "#X\n",
    "model = sm.OLS(df['cardio' ],X)\n",
    "result = model.fit()\n",
    "print(result.summary())"
   ]
  },
  {
   "cell_type": "code",
   "execution_count": 40,
   "metadata": {},
   "outputs": [
    {
     "name": "stdout",
     "output_type": "stream",
     "text": [
      "                            OLS Regression Results                            \n",
      "==============================================================================\n",
      "Dep. Variable:                 cardio   R-squared:                       0.073\n",
      "Model:                            OLS   Adj. R-squared:                  0.073\n",
      "Method:                 Least Squares   F-statistic:                     1830.\n",
      "Date:                Sun, 15 Jun 2025   Prob (F-statistic):               0.00\n",
      "Time:                        17:33:28   Log-Likelihood:                -48162.\n",
      "No. Observations:               70000   AIC:                         9.633e+04\n",
      "Df Residuals:                   69996   BIC:                         9.637e+04\n",
      "Df Model:                           3                                         \n",
      "Covariance Type:            nonrobust                                         \n",
      "===============================================================================\n",
      "                  coef    std err          t      P>|t|      [0.025      0.975]\n",
      "-------------------------------------------------------------------------------\n",
      "Intercept      -0.0965      0.010     -9.810      0.000      -0.116      -0.077\n",
      "weight          0.0054      0.000     42.140      0.000       0.005       0.006\n",
      "cholesterol     0.1466      0.003     54.238      0.000       0.141       0.152\n",
      "smoke          -0.0495      0.006     -7.696      0.000      -0.062      -0.037\n",
      "==============================================================================\n",
      "Omnibus:                   292868.519   Durbin-Watson:                   1.986\n",
      "Prob(Omnibus):                  0.000   Jarque-Bera (JB):             8705.864\n",
      "Skew:                           0.037   Prob(JB):                         0.00\n",
      "Kurtosis:                       1.274   Cond. No.                         410.\n",
      "==============================================================================\n",
      "\n",
      "Notes:\n",
      "[1] Standard Errors assume that the covariance matrix of the errors is correctly specified.\n"
     ]
    }
   ],
   "source": [
    "import pandas as pd\n",
    "import numpy as np\n",
    "\n",
    "df = pd.read_csv(\"https://raw.githubusercontent.com/JEunJin/BigData_python/refs/heads/master/bigdata_csvfile/cardiovascular_heart_disease_data.csv\")\n",
    "df\n",
    "from statsmodels.api import OLS\n",
    "\n",
    "formula = 'cardio ~ weight + cholesterol + smoke'\n",
    "result = OLS.from_formula(formula, df).fit()\n",
    "print(result.summary())"
   ]
  },
  {
   "cell_type": "code",
   "execution_count": 50,
   "metadata": {},
   "outputs": [
    {
     "name": "stdout",
     "output_type": "stream",
     "text": [
      "4.489\n"
     ]
    }
   ],
   "source": [
    "import pandas as pd\n",
    "import numpy as np\n",
    "\n",
    "df = pd.read_csv(\"https://raw.githubusercontent.com/JEunJin/BigData_python/refs/heads/master/bigdata_csvfile/cardiovascular_heart_disease_data.csv\")\n",
    "\n",
    "from statsmodels.api import OLS\n",
    "\n",
    "formula = 'ap_hi ~ weight + cholesterol + smoke'\n",
    "result = OLS.from_formula(formula, df).fit()\n",
    "# print(result.summary())\n",
    "print(round(4.4887,3))"
   ]
  }
 ],
 "metadata": {
  "kernelspec": {
   "display_name": "Python (mini)",
   "language": "python",
   "name": "mini"
  },
  "language_info": {
   "codemirror_mode": {
    "name": "ipython",
    "version": 3
   },
   "file_extension": ".py",
   "mimetype": "text/x-python",
   "name": "python",
   "nbconvert_exporter": "python",
   "pygments_lexer": "ipython3",
   "version": "3.9.21"
  }
 },
 "nbformat": 4,
 "nbformat_minor": 2
}
