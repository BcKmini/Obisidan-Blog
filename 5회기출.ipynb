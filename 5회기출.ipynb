{
 "cells": [
  {
   "cell_type": "code",
   "execution_count": null,
   "metadata": {},
   "outputs": [],
   "source": [
    "import pandas as pd\n",
    "df = pd.read_csv('https://raw.githubusercontent.com/Datamanim/datarepo/main/krdatacertificate/e5_p1_1_.csv')\n",
    "# df.head(5)\n",
    "f1 = df[(df['20L가격']!=0) & ((df['5L가격']!=0))].reset_index()\n",
    "f1['차이가격'] = f1['20L가격'] - f1['5L가격']\n",
    "\n",
    "result = f1.groupby('시도명')['차이가격'].mean().sort_values(ascending = False)\n",
    "result"
   ]
  },
  {
   "cell_type": "markdown",
   "metadata": {},
   "source": [
    "#### BMI는 몸무게(kg) / (키(M) * 키(M)) 로 정의 된다. 초고도 비만은 BMI 25이상 , 고도 비반은 BMI 25미만 - 23이상 , 정상은 23미만 - 18.5이상 저체중은 18.5미만으로 정의 된다. 주어진 데이터에서 초고도비만 인원 + 저체중 인원 의 숫자는?"
   ]
  },
  {
   "cell_type": "code",
   "execution_count": null,
   "metadata": {},
   "outputs": [],
   "source": [
    "import pandas as pd\n",
    "df = pd.read_csv('https://raw.githubusercontent.com/Datamanim/datarepo/main/krdatacertificate/e5_p1_2_.csv')\n",
    "# df.info()\n",
    "\n",
    "df['BMI'] = df['weight(kg)'] / ((df['height(cm)'] / 100) ** 2)\n",
    "\n",
    "df1 = (df['BMI'] >= 25) | (df['BMI'] < 18.5)\n",
    "\n",
    "count = df[df1].shape[0]\n",
    "count"
   ]
  },
  {
   "cell_type": "markdown",
   "metadata": {},
   "source": [
    "#### 순유입인원은 초중고 도내,도외 전입인원에서 초중고 도내, 도외 전출인원을 뺀값이다. 각년도별로 가장 큰 순유입인원을 가진 지역구의 순유입인원을 구하고 전체 기간의 해당 순유입인원들의 합을 구하여라"
   ]
  },
  {
   "cell_type": "code",
   "execution_count": null,
   "metadata": {},
   "outputs": [],
   "source": [
    "import pandas as pd\n",
    "df = pd.read_csv('https://raw.githubusercontent.com/Datamanim/datarepo/main/krdatacertificate/e5_p1_3.csv')\n",
    "df['전입'] = df['초등학교_전입_도내'] + df['초등학교_전입_도외'] + df['중학교_전입_도내'] + df['중학교_전입_도외'] + df['고등학교_전입_도내'] + df['고등학교_전입_도외']\n",
    "df['전출'] = df['초등학교_전출_도내'] + df['초등학교_전출_도외'] + df['중학교_전출_도내'] + df['중학교_전출_도외'] + df['고등학교_전출_도내'] + df['고등학교_전출_도외']\n",
    "df['순유입인원'] = df['전입'] - df['전출']\n",
    "result = df.groupby('년도')['순유입인원'].max().sum().sum() # 2019 # 13853\n",
    "result"
   ]
  },
  {
   "cell_type": "markdown",
   "metadata": {},
   "source": [
    "벤츠 차량 가격 예측 : https://www.kaggle.com/datasets/mysarahmadbhat/mercedes-used-car-listing train = https://raw.githubusercontent.com/Datamanim/datarepo/main/krdatacertificate/e5_p2_train_.csv test = https://raw.githubusercontent.com/Datamanim/datarepo/main/krdatacertificate/e5_p2_test_.csv\n",
    "\n",
    "예측 변수 price, test.csv에 대해 ID별로 price 값을 예측하여 제출, 제출 데이터 컬럼은 ID와 price 두개만 존재해야함. 평가지표는 rmse"
   ]
  },
  {
   "cell_type": "markdown",
   "metadata": {},
   "source": [
    "['calibration', 'cluster', 'covariance', 'cross_decomposition', 'datasets', 'decomposition', 'dummy', 'ensemble', 'exceptions', 'experimental', 'externals', 'feature_extraction', 'feature_selection', 'frozen', 'gaussian_process', 'inspection', 'isotonic', 'kernel_approximation', 'kernel_ridge', 'linear_model', 'manifold', 'metrics', 'mixture', 'model_selection', 'multiclass', 'multioutput', 'naive_bayes', 'neighbors', 'neural_network', 'pipeline', 'preprocessing', 'random_projection', 'semi_supervised', 'svm', 'tree', 'discriminant_analysis', 'impute', 'compose', 'clone', 'get_config', 'set_config', 'config_context', 'show_versions']"
   ]
  },
  {
   "cell_type": "code",
   "execution_count": null,
   "metadata": {},
   "outputs": [],
   "source": [
    "import pandas as pd\n",
    "train = pd.read_csv('https://raw.githubusercontent.com/Datamanim/datarepo/main/krdatacertificate/e5_p2_train_.csv')\n",
    "test = pd.read_csv('https://raw.githubusercontent.com/Datamanim/datarepo/main/krdatacertificate/e5_p2_test_.csv')\n",
    "\n",
    "# print(train.info(), test.info())\n",
    "# print(train.shape, test.shape)\n",
    "# print(train.isnull().sum(), test.isnull().sum())\n",
    "\n",
    "target = train.pop('price')\n",
    "\n",
    "test_id = test['ID']\n",
    "\n",
    "train = train.drop(columns='ID')\n",
    "test = test.drop(columns='ID')\n",
    "\n",
    "df = pd.concat([train, test])\n",
    "df = pd.get_dummies(df)\n",
    "\n",
    "train = df.iloc[:len(train)]\n",
    "test = df.iloc[len(train):len(train)+len(test)]\n",
    "# print(train.shape, test.shape)\n",
    "\n",
    "from sklearn.model_selection import train_test_split\n",
    "x_train, x_val, y_train, y_val = train_test_split(train, target, test_size=0.2)\n",
    "# print(x_train.shape, x_val.shape, y_train.shape, y_val.shape)\n",
    "\n",
    "from sklearn.ensemble import RandomForestRegressor\n",
    "model = RandomForestRegressor()\n",
    "model.fit(x_train, y_train)\n",
    "pred = model.predict(x_val)\n",
    "\n",
    "from sklearn.metrics import root_mean_squared_error\n",
    "rmse = root_mean_squared_error(y_val, pred)\n",
    "print(rmse)\n",
    "\n",
    "pred1 = model.predict(test)\n",
    "submit = pd.DataFrame()\n",
    "submit['ID'] = test_id\n",
    "submit['price'] = pred1\n",
    "submit.to_csv('result.csv', index=False)\n",
    "df = pd.read_csv('result.csv')\n",
    "df"
   ]
  },
  {
   "cell_type": "markdown",
   "metadata": {},
   "source": [
    "55명 학생들의 키에 대한 표본 평균을 구하여라(반올림하여 소숫점 3째자리까지"
   ]
  },
  {
   "cell_type": "markdown",
   "metadata": {},
   "source": [
    "['BayesGaussMI', 'BinomialBayesMixedGLM', 'ConditionalLogit', 'ConditionalMNLogit', 'ConditionalPoisson', 'Factor', 'GEE', 'GLM', 'GLMGam', 'GLS', 'GLSAR', 'GeneralizedPoisson', 'HurdleCountModel', 'Logit', 'MANOVA', 'MI', 'MICE', 'MICEData', 'MNLogit', 'MixedLM', 'NegativeBinomial', 'NegativeBinomialP', 'NominalGEE', 'OLS', 'OrdinalGEE', 'PCA', 'PHReg', 'Poisson', 'PoissonBayesMixedGLM', 'ProbPlot', 'Probit', 'QuantReg', 'RLM', 'RecursiveLS', 'SurvfuncRight', 'TruncatedLFNegativeBinomialP', 'TruncatedLFPoisson', 'WLS', 'ZeroInflatedGeneralizedPoisson', 'ZeroInflatedNegativeBinomialP', 'ZeroInflatedPoisson', '__all__', '__builtins__', '__cached__', '__doc__', '__file__', '__loader__', '__name__', '__package__', '__spec__', '__version__', '__version_info__', 'add_constant', 'categorical', 'cov_struct', 'datasets', 'distributions', 'duration', 'emplike', 'families', 'formula', 'gam', 'genmod', 'graphics', 'iolib', 'load', 'load_pickle', 'multivariate', 'nonparametric', 'qqline', 'qqplot', 'qqplot_2samples', 'regression', 'robust', 'show_versions', 'stats', 'test', 'tools', 'tsa', 'webdoc']"
   ]
  },
  {
   "cell_type": "code",
   "execution_count": 20,
   "metadata": {},
   "outputs": [
    {
     "name": "stdout",
     "output_type": "stream",
     "text": [
      "                            OLS Regression Results                            \n",
      "==============================================================================\n",
      "Dep. Variable:                 height   R-squared:                       1.000\n",
      "Model:                            OLS   Adj. R-squared:                    nan\n",
      "Method:                 Least Squares   F-statistic:                       nan\n",
      "Date:                Sun, 15 Jun 2025   Prob (F-statistic):                nan\n",
      "Time:                        22:44:19   Log-Likelihood:                 1560.2\n",
      "No. Observations:                  55   AIC:                            -3010.\n",
      "Df Residuals:                       0   BIC:                            -2900.\n",
      "Df Model:                          54                                         \n",
      "Covariance Type:            nonrobust                                         \n",
      "=================================================================================\n",
      "                    coef    std err          t      P>|t|      [0.025      0.975]\n",
      "---------------------------------------------------------------------------------\n",
      "Intercept       164.5700        inf          0        nan         nan         nan\n",
      "ID[T.user_10]     1.1000        inf          0        nan         nan         nan\n",
      "ID[T.user_11]     2.0400        inf          0        nan         nan         nan\n",
      "ID[T.user_12]     4.9600        inf          0        nan         nan         nan\n",
      "ID[T.user_13]    12.8900        inf          0        nan         nan         nan\n",
      "ID[T.user_14]     2.2400        inf          0        nan         nan         nan\n",
      "ID[T.user_15]     3.2100        inf          0        nan         nan         nan\n",
      "ID[T.user_16]     3.2600        inf          0        nan         nan         nan\n",
      "ID[T.user_17]    16.4600        inf          0        nan         nan         nan\n",
      "ID[T.user_18]    16.3600        inf          0        nan         nan         nan\n",
      "ID[T.user_19]    10.4500        inf          0        nan         nan         nan\n",
      "ID[T.user_2]     10.4200        inf          0        nan         nan         nan\n",
      "ID[T.user_20]     7.3600        inf          0        nan         nan         nan\n",
      "ID[T.user_21]     9.1200        inf          0        nan         nan         nan\n",
      "ID[T.user_22]    12.8800        inf          0        nan         nan         nan\n",
      "ID[T.user_23]     0.7500        inf          0        nan         nan         nan\n",
      "ID[T.user_24]    11.3100        inf          0        nan         nan         nan\n",
      "ID[T.user_25]    -0.8400        inf         -0        nan         nan         nan\n",
      "ID[T.user_26]     2.2400        inf          0        nan         nan         nan\n",
      "ID[T.user_27]     9.9700        inf          0        nan         nan         nan\n",
      "ID[T.user_28]    -1.7100        inf         -0        nan         nan         nan\n",
      "ID[T.user_29]     4.7300        inf          0        nan         nan         nan\n",
      "ID[T.user_3]      6.8400        inf          0        nan         nan         nan\n",
      "ID[T.user_30]     1.1200        inf          0        nan         nan         nan\n",
      "ID[T.user_31]     4.1500        inf          0        nan         nan         nan\n",
      "ID[T.user_32]    -8.5600        inf         -0        nan         nan         nan\n",
      "ID[T.user_33]    -3.4300        inf         -0        nan         nan         nan\n",
      "ID[T.user_34]     1.9300        inf          0        nan         nan         nan\n",
      "ID[T.user_35]    10.0700        inf          0        nan         nan         nan\n",
      "ID[T.user_36]     4.5600        inf          0        nan         nan         nan\n",
      "ID[T.user_37]     5.4400        inf          0        nan         nan         nan\n",
      "ID[T.user_38]     8.8700        inf          0        nan         nan         nan\n",
      "ID[T.user_39]     1.0300        inf          0        nan         nan         nan\n",
      "ID[T.user_4]     -2.1000        inf         -0        nan         nan         nan\n",
      "ID[T.user_40]     6.8500        inf          0        nan         nan         nan\n",
      "ID[T.user_41]     1.4000        inf          0        nan         nan         nan\n",
      "ID[T.user_42]    -3.2100        inf         -0        nan         nan         nan\n",
      "ID[T.user_43]     3.4800        inf          0        nan         nan         nan\n",
      "ID[T.user_44]     8.3000        inf          0        nan         nan         nan\n",
      "ID[T.user_45]     7.1200        inf          0        nan         nan         nan\n",
      "ID[T.user_46]     5.3700        inf          0        nan         nan         nan\n",
      "ID[T.user_47]    17.3900        inf          0        nan         nan         nan\n",
      "ID[T.user_48]     7.4900        inf          0        nan         nan         nan\n",
      "ID[T.user_49]    10.3200        inf          0        nan         nan         nan\n",
      "ID[T.user_5]      2.5400        inf          0        nan         nan         nan\n",
      "ID[T.user_50]    16.6200        inf          0        nan         nan         nan\n",
      "ID[T.user_51]    -1.0400        inf         -0        nan         nan         nan\n",
      "ID[T.user_52]     0.2400        inf          0        nan         nan         nan\n",
      "ID[T.user_53]    14.1500        inf          0        nan         nan         nan\n",
      "ID[T.user_54]     1.4400        inf          0        nan         nan         nan\n",
      "ID[T.user_55]     5.5800        inf          0        nan         nan         nan\n",
      "ID[T.user_6]     13.6900        inf          0        nan         nan         nan\n",
      "ID[T.user_7]     -6.7000        inf         -0        nan         nan         nan\n",
      "ID[T.user_8]      3.2900        inf          0        nan         nan         nan\n",
      "ID[T.user_9]     11.7600        inf          0        nan         nan         nan\n",
      "==============================================================================\n",
      "Omnibus:                        3.503   Durbin-Watson:                   1.465\n",
      "Prob(Omnibus):                  0.174   Jarque-Bera (JB):                2.906\n",
      "Skew:                          -0.562   Prob(JB):                        0.234\n",
      "Kurtosis:                       3.082   Cond. No.                         56.0\n",
      "==============================================================================\n",
      "\n",
      "Notes:\n",
      "[1] Standard Errors assume that the covariance matrix of the errors is correctly specified.\n"
     ]
    },
    {
     "name": "stderr",
     "output_type": "stream",
     "text": [
      "/home/mini/miniconda3/envs/mini/lib/python3.9/site-packages/statsmodels/regression/linear_model.py:1795: RuntimeWarning: divide by zero encountered in divide\n",
      "  return 1 - (np.divide(self.nobs - self.k_constant, self.df_resid)\n",
      "/home/mini/miniconda3/envs/mini/lib/python3.9/site-packages/statsmodels/regression/linear_model.py:1795: RuntimeWarning: invalid value encountered in scalar multiply\n",
      "  return 1 - (np.divide(self.nobs - self.k_constant, self.df_resid)\n",
      "/home/mini/miniconda3/envs/mini/lib/python3.9/site-packages/statsmodels/regression/linear_model.py:1717: RuntimeWarning: divide by zero encountered in scalar divide\n",
      "  return np.dot(wresid, wresid) / self.df_resid\n"
     ]
    }
   ],
   "source": [
    "import pandas as pd \n",
    "import numpy as np\n",
    "df= pd.read_csv('https://raw.githubusercontent.com/Datamanim/datarepo/main/krdatacertificate/e5_p3_1.csv')\n",
    "#df\n",
    "#df.info()\n",
    "result1 = df['height'].mean()\n",
    "#print(round(result1, 3))\n",
    "\n",
    "from statsmodels.api import OLS\n",
    "formula = 'height ~ ID'\n",
    "result2 = OLS.from_formula(formula, df).fit()\n",
    "print(result2.summary())\n"
   ]
  },
  {
   "cell_type": "code",
   "execution_count": null,
   "metadata": {},
   "outputs": [],
   "source": []
  }
 ],
 "metadata": {
  "kernelspec": {
   "display_name": "Python (mini)",
   "language": "python",
   "name": "mini"
  },
  "language_info": {
   "codemirror_mode": {
    "name": "ipython",
    "version": 3
   },
   "file_extension": ".py",
   "mimetype": "text/x-python",
   "name": "python",
   "nbconvert_exporter": "python",
   "pygments_lexer": "ipython3",
   "version": "3.9.21"
  }
 },
 "nbformat": 4,
 "nbformat_minor": 2
}
