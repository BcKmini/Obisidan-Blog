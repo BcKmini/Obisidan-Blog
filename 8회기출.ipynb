{
 "cells": [
  {
   "cell_type": "markdown",
   "metadata": {},
   "source": [
    "### 대륙별 맥주 평균 소비량을 구하라. 5번째로 소비가 많은 대륙의 2번째로 맥주 소비량이 많은 국가의 맥주 소비량을 구하여라"
   ]
  },
  {
   "cell_type": "code",
   "execution_count": 43,
   "metadata": {},
   "outputs": [
    {
     "data": {
      "text/plain": [
       "array(['Africa', 'Asia', 'Europe', 'North America', 'Oceania',\n",
       "       'South America'], dtype=object)"
      ]
     },
     "execution_count": 43,
     "metadata": {},
     "output_type": "execute_result"
    }
   ],
   "source": [
    "import pandas as pd\n",
    "df = pd.read_csv('https://raw.githubusercontent.com/Datamanim/datarepo/main/krdatacertificate/e8_p1_1.csv')\n",
    "df['대륙'].unique()"
   ]
  },
  {
   "cell_type": "code",
   "execution_count": 44,
   "metadata": {},
   "outputs": [
    {
     "name": "stdout",
     "output_type": "stream",
     "text": [
      "              대륙         소비량\n",
      "2         Europe  189.409091\n",
      "5  South America  175.083333\n",
      "3  North America  142.277778\n",
      "4        Oceania   89.071429\n",
      "0         Africa   61.750000\n",
      "1           Asia   38.365854\n"
     ]
    }
   ],
   "source": [
    "df1 = df.groupby('대륙')['소비량'].mean().reset_index()\n",
    "reuslt1 = df1.sort_values(by='소비량',ascending=False)\n",
    "print(reuslt1)\n",
    "# South America, Africa"
   ]
  },
  {
   "cell_type": "markdown",
   "metadata": {},
   "source": [
    "### 총 방문객 수는 관광,방문,유햑연수,취업,기타 방문자 숫자의 합으로 정의한다. \n",
    "각 국가별 관광 / 총 방문객 수의 비율을 구하고 이를 관광 비율이라 한다.   \n",
    "관광비율이 2번째로 높은 국가의 취업으로 출국한 인원과 관광 숫자가 3번째로 높은 국가의 방문으로 출국한 인원의 합을 구하여라"
   ]
  },
  {
   "cell_type": "code",
   "execution_count": 45,
   "metadata": {},
   "outputs": [
    {
     "data": {
      "text/html": [
       "<div>\n",
       "<style scoped>\n",
       "    .dataframe tbody tr th:only-of-type {\n",
       "        vertical-align: middle;\n",
       "    }\n",
       "\n",
       "    .dataframe tbody tr th {\n",
       "        vertical-align: top;\n",
       "    }\n",
       "\n",
       "    .dataframe thead th {\n",
       "        text-align: right;\n",
       "    }\n",
       "</style>\n",
       "<table border=\"1\" class=\"dataframe\">\n",
       "  <thead>\n",
       "    <tr style=\"text-align: right;\">\n",
       "      <th></th>\n",
       "      <th>국가</th>\n",
       "      <th>관광</th>\n",
       "      <th>방문</th>\n",
       "      <th>유학연수</th>\n",
       "      <th>취업</th>\n",
       "      <th>기타</th>\n",
       "    </tr>\n",
       "  </thead>\n",
       "  <tbody>\n",
       "    <tr>\n",
       "      <th>0</th>\n",
       "      <td>뉴질랜드</td>\n",
       "      <td>24724.0</td>\n",
       "      <td>6320.0</td>\n",
       "      <td>4911.0</td>\n",
       "      <td>56.0</td>\n",
       "      <td>637.0</td>\n",
       "    </tr>\n",
       "    <tr>\n",
       "      <th>1</th>\n",
       "      <td>피  지</td>\n",
       "      <td>3889.0</td>\n",
       "      <td>564.0</td>\n",
       "      <td>98.0</td>\n",
       "      <td>15.0</td>\n",
       "      <td>40.0</td>\n",
       "    </tr>\n",
       "    <tr>\n",
       "      <th>2</th>\n",
       "      <td>벨기에</td>\n",
       "      <td>243.0</td>\n",
       "      <td>58.0</td>\n",
       "      <td>30.0</td>\n",
       "      <td>7.0</td>\n",
       "      <td>25.0</td>\n",
       "    </tr>\n",
       "    <tr>\n",
       "      <th>3</th>\n",
       "      <td>멕시코</td>\n",
       "      <td>1069.0</td>\n",
       "      <td>335.0</td>\n",
       "      <td>103.0</td>\n",
       "      <td>32.0</td>\n",
       "      <td>48.0</td>\n",
       "    </tr>\n",
       "    <tr>\n",
       "      <th>4</th>\n",
       "      <td>우즈베키스탄</td>\n",
       "      <td>3994.0</td>\n",
       "      <td>1456.0</td>\n",
       "      <td>97.0</td>\n",
       "      <td>4.0</td>\n",
       "      <td>137.0</td>\n",
       "    </tr>\n",
       "  </tbody>\n",
       "</table>\n",
       "</div>"
      ],
      "text/plain": [
       "       국가       관광      방문    유학연수    취업     기타\n",
       "0    뉴질랜드  24724.0  6320.0  4911.0  56.0  637.0\n",
       "1    피  지   3889.0   564.0    98.0  15.0   40.0\n",
       "2     벨기에    243.0    58.0    30.0   7.0   25.0\n",
       "3     멕시코   1069.0   335.0   103.0  32.0   48.0\n",
       "4  우즈베키스탄   3994.0  1456.0    97.0   4.0  137.0"
      ]
     },
     "execution_count": 45,
     "metadata": {},
     "output_type": "execute_result"
    }
   ],
   "source": [
    "import pandas as pd\n",
    "import numpy as np\n",
    "df = pd.read_csv('https://raw.githubusercontent.com/Datamanim/datarepo/main/krdatacertificate/e8_p1_2.csv')\n",
    "df.head(5)"
   ]
  },
  {
   "cell_type": "code",
   "execution_count": 65,
   "metadata": {},
   "outputs": [
    {
     "name": "stdout",
     "output_type": "stream",
     "text": [
      "22.0\n",
      "416800.0\n",
      "416822.0\n"
     ]
    },
    {
     "data": {
      "text/html": [
       "<div>\n",
       "<style scoped>\n",
       "    .dataframe tbody tr th:only-of-type {\n",
       "        vertical-align: middle;\n",
       "    }\n",
       "\n",
       "    .dataframe tbody tr th {\n",
       "        vertical-align: top;\n",
       "    }\n",
       "\n",
       "    .dataframe thead th {\n",
       "        text-align: right;\n",
       "    }\n",
       "</style>\n",
       "<table border=\"1\" class=\"dataframe\">\n",
       "  <thead>\n",
       "    <tr style=\"text-align: right;\">\n",
       "      <th></th>\n",
       "      <th>국가</th>\n",
       "      <th>관광</th>\n",
       "      <th>방문</th>\n",
       "      <th>유학연수</th>\n",
       "      <th>취업</th>\n",
       "      <th>기타</th>\n",
       "      <th>총 방문객 수</th>\n",
       "      <th>관광비율</th>\n",
       "    </tr>\n",
       "  </thead>\n",
       "  <tbody>\n",
       "    <tr>\n",
       "      <th>36</th>\n",
       "      <td>마카오</td>\n",
       "      <td>24237.0</td>\n",
       "      <td>1603.0</td>\n",
       "      <td>81.0</td>\n",
       "      <td>4.0</td>\n",
       "      <td>123.0</td>\n",
       "      <td>26048.0</td>\n",
       "      <td>0.930475</td>\n",
       "    </tr>\n",
       "    <tr>\n",
       "      <th>60</th>\n",
       "      <td>캄보디아</td>\n",
       "      <td>31283.0</td>\n",
       "      <td>1919.0</td>\n",
       "      <td>172.0</td>\n",
       "      <td>22.0</td>\n",
       "      <td>286.0</td>\n",
       "      <td>33682.0</td>\n",
       "      <td>0.928775</td>\n",
       "    </tr>\n",
       "    <tr>\n",
       "      <th>29</th>\n",
       "      <td>태  국</td>\n",
       "      <td>416800.0</td>\n",
       "      <td>30813.0</td>\n",
       "      <td>4133.0</td>\n",
       "      <td>197.0</td>\n",
       "      <td>3111.0</td>\n",
       "      <td>455054.0</td>\n",
       "      <td>0.915935</td>\n",
       "    </tr>\n",
       "    <tr>\n",
       "      <th>46</th>\n",
       "      <td>북마리아나 군도</td>\n",
       "      <td>34940.0</td>\n",
       "      <td>2932.0</td>\n",
       "      <td>186.0</td>\n",
       "      <td>65.0</td>\n",
       "      <td>390.0</td>\n",
       "      <td>38513.0</td>\n",
       "      <td>0.907226</td>\n",
       "    </tr>\n",
       "    <tr>\n",
       "      <th>9</th>\n",
       "      <td>괌</td>\n",
       "      <td>52738.0</td>\n",
       "      <td>5115.0</td>\n",
       "      <td>390.0</td>\n",
       "      <td>55.0</td>\n",
       "      <td>132.0</td>\n",
       "      <td>58430.0</td>\n",
       "      <td>0.902584</td>\n",
       "    </tr>\n",
       "    <tr>\n",
       "      <th>...</th>\n",
       "      <td>...</td>\n",
       "      <td>...</td>\n",
       "      <td>...</td>\n",
       "      <td>...</td>\n",
       "      <td>...</td>\n",
       "      <td>...</td>\n",
       "      <td>...</td>\n",
       "      <td>...</td>\n",
       "    </tr>\n",
       "    <tr>\n",
       "      <th>59</th>\n",
       "      <td>미  국</td>\n",
       "      <td>152140.0</td>\n",
       "      <td>79585.0</td>\n",
       "      <td>43695.0</td>\n",
       "      <td>1081.0</td>\n",
       "      <td>9611.0</td>\n",
       "      <td>286112.0</td>\n",
       "      <td>0.531750</td>\n",
       "    </tr>\n",
       "    <tr>\n",
       "      <th>12</th>\n",
       "      <td>쿠웨이트</td>\n",
       "      <td>245.0</td>\n",
       "      <td>123.0</td>\n",
       "      <td>4.0</td>\n",
       "      <td>76.0</td>\n",
       "      <td>86.0</td>\n",
       "      <td>534.0</td>\n",
       "      <td>0.458801</td>\n",
       "    </tr>\n",
       "    <tr>\n",
       "      <th>38</th>\n",
       "      <td>우루과이</td>\n",
       "      <td>23.0</td>\n",
       "      <td>6.0</td>\n",
       "      <td>0.0</td>\n",
       "      <td>21.0</td>\n",
       "      <td>5.0</td>\n",
       "      <td>55.0</td>\n",
       "      <td>0.418182</td>\n",
       "    </tr>\n",
       "    <tr>\n",
       "      <th>51</th>\n",
       "      <td>나이지리아</td>\n",
       "      <td>124.0</td>\n",
       "      <td>56.0</td>\n",
       "      <td>2.0</td>\n",
       "      <td>102.0</td>\n",
       "      <td>37.0</td>\n",
       "      <td>321.0</td>\n",
       "      <td>0.386293</td>\n",
       "    </tr>\n",
       "    <tr>\n",
       "      <th>58</th>\n",
       "      <td>리비아</td>\n",
       "      <td>134.0</td>\n",
       "      <td>25.0</td>\n",
       "      <td>1.0</td>\n",
       "      <td>198.0</td>\n",
       "      <td>5.0</td>\n",
       "      <td>363.0</td>\n",
       "      <td>0.369146</td>\n",
       "    </tr>\n",
       "  </tbody>\n",
       "</table>\n",
       "<p>64 rows × 8 columns</p>\n",
       "</div>"
      ],
      "text/plain": [
       "          국가        관광       방문     유학연수      취업      기타   총 방문객 수      관광비율\n",
       "36       마카오   24237.0   1603.0     81.0     4.0   123.0   26048.0  0.930475\n",
       "60      캄보디아   31283.0   1919.0    172.0    22.0   286.0   33682.0  0.928775\n",
       "29      태  국  416800.0  30813.0   4133.0   197.0  3111.0  455054.0  0.915935\n",
       "46  북마리아나 군도   34940.0   2932.0    186.0    65.0   390.0   38513.0  0.907226\n",
       "9          괌   52738.0   5115.0    390.0    55.0   132.0   58430.0  0.902584\n",
       "..       ...       ...      ...      ...     ...     ...       ...       ...\n",
       "59      미  국  152140.0  79585.0  43695.0  1081.0  9611.0  286112.0  0.531750\n",
       "12      쿠웨이트     245.0    123.0      4.0    76.0    86.0     534.0  0.458801\n",
       "38      우루과이      23.0      6.0      0.0    21.0     5.0      55.0  0.418182\n",
       "51     나이지리아     124.0     56.0      2.0   102.0    37.0     321.0  0.386293\n",
       "58       리비아     134.0     25.0      1.0   198.0     5.0     363.0  0.369146\n",
       "\n",
       "[64 rows x 8 columns]"
      ]
     },
     "execution_count": 65,
     "metadata": {},
     "output_type": "execute_result"
    }
   ],
   "source": [
    "df['총 방문객 수'] = df['관광'] + df['방문'] + df['유학연수'] + df['취업'] + df['기타']\n",
    "df['관광비율'] = df['관광'] / df['총 방문객 수']\n",
    "df1 = df.sort_values(by='관광비율', ascending=False).iloc[1]['취업']\n",
    "print(df1)\n",
    "df2 = df.sort_values(by='관광비율', ascending=False).iloc[2]['관광']\n",
    "print(df2)\n",
    "print(df1 + df2)\n",
    "df\n",
    "#31283.0\t + 416800.0"
   ]
  },
  {
   "cell_type": "markdown",
   "metadata": {},
   "source": [
    "### CO(GT),NMHC(GT) 두 컬럼을 min-max normalize를 진행하고 각 컬럼의 모표준편차의 차이의 절댓값을 소숫점 이하 3째 자리까지 구하여라"
   ]
  },
  {
   "cell_type": "code",
   "execution_count": 72,
   "metadata": {},
   "outputs": [
    {
     "data": {
      "text/html": [
       "<div>\n",
       "<style scoped>\n",
       "    .dataframe tbody tr th:only-of-type {\n",
       "        vertical-align: middle;\n",
       "    }\n",
       "\n",
       "    .dataframe tbody tr th {\n",
       "        vertical-align: top;\n",
       "    }\n",
       "\n",
       "    .dataframe thead th {\n",
       "        text-align: right;\n",
       "    }\n",
       "</style>\n",
       "<table border=\"1\" class=\"dataframe\">\n",
       "  <thead>\n",
       "    <tr style=\"text-align: right;\">\n",
       "      <th></th>\n",
       "      <th>Date</th>\n",
       "      <th>Time</th>\n",
       "      <th>CO(GT)</th>\n",
       "      <th>PT08.S1(CO)</th>\n",
       "      <th>NMHC(GT)</th>\n",
       "      <th>C6H6(GT)</th>\n",
       "    </tr>\n",
       "  </thead>\n",
       "  <tbody>\n",
       "    <tr>\n",
       "      <th>0</th>\n",
       "      <td>10/03/2004</td>\n",
       "      <td>18.00.00</td>\n",
       "      <td>2.6</td>\n",
       "      <td>1360.0</td>\n",
       "      <td>150.0</td>\n",
       "      <td>11.9</td>\n",
       "    </tr>\n",
       "    <tr>\n",
       "      <th>1</th>\n",
       "      <td>10/03/2004</td>\n",
       "      <td>19.00.00</td>\n",
       "      <td>2.0</td>\n",
       "      <td>1292.0</td>\n",
       "      <td>112.0</td>\n",
       "      <td>9.4</td>\n",
       "    </tr>\n",
       "    <tr>\n",
       "      <th>2</th>\n",
       "      <td>10/03/2004</td>\n",
       "      <td>20.00.00</td>\n",
       "      <td>2.2</td>\n",
       "      <td>1402.0</td>\n",
       "      <td>88.0</td>\n",
       "      <td>9.0</td>\n",
       "    </tr>\n",
       "    <tr>\n",
       "      <th>3</th>\n",
       "      <td>10/03/2004</td>\n",
       "      <td>21.00.00</td>\n",
       "      <td>2.2</td>\n",
       "      <td>1376.0</td>\n",
       "      <td>80.0</td>\n",
       "      <td>9.2</td>\n",
       "    </tr>\n",
       "    <tr>\n",
       "      <th>4</th>\n",
       "      <td>10/03/2004</td>\n",
       "      <td>22.00.00</td>\n",
       "      <td>1.6</td>\n",
       "      <td>1272.0</td>\n",
       "      <td>51.0</td>\n",
       "      <td>6.5</td>\n",
       "    </tr>\n",
       "  </tbody>\n",
       "</table>\n",
       "</div>"
      ],
      "text/plain": [
       "         Date      Time  CO(GT)  PT08.S1(CO)  NMHC(GT)  C6H6(GT)\n",
       "0  10/03/2004  18.00.00     2.6       1360.0     150.0      11.9\n",
       "1  10/03/2004  19.00.00     2.0       1292.0     112.0       9.4\n",
       "2  10/03/2004  20.00.00     2.2       1402.0      88.0       9.0\n",
       "3  10/03/2004  21.00.00     2.2       1376.0      80.0       9.2\n",
       "4  10/03/2004  22.00.00     1.6       1272.0      51.0       6.5"
      ]
     },
     "execution_count": 72,
     "metadata": {},
     "output_type": "execute_result"
    }
   ],
   "source": [
    "import pandas as pd\n",
    "df = pd.read_csv('https://raw.githubusercontent.com/Datamanim/datarepo/main/krdatacertificate/e8_p1_3.csv')\n",
    "df.head(5)\n",
    "# df.shape"
   ]
  },
  {
   "cell_type": "code",
   "execution_count": null,
   "metadata": {},
   "outputs": [
    {
     "name": "stdout",
     "output_type": "stream",
     "text": [
      "0.266\n"
     ]
    }
   ],
   "source": [
    "from sklearn.preprocessing import MinMaxScaler\n",
    "scaler = MinMaxScaler()\n",
    "d1 = MinMaxScaler().fit_transform(df['CO(GT)'].values.reshape(-1,1))\n",
    "d2 = MinMaxScaler().fit_transform(df['NMHC(GT)'].values.reshape(-1,1))\n",
    "std1 = d1.std()\n",
    "std2 = d2.std()\n",
    "print(round(abs(std2 - std1),3)) # 0.266"
   ]
  },
  {
   "cell_type": "markdown",
   "metadata": {},
   "source": [
    "날씨에 따른 지하철 이용자수 train = https://raw.githubusercontent.com/Datamanim/datarepo/main/krdatacertificate/e8_p2_train.csv test = https://raw.githubusercontent.com/Datamanim/datarepo/main/krdatacertificate/e8_p2_test.csv\n",
    "\n",
    "종속변수 :Y , 평가지표 : mae\n",
    "<class 'pandas.core.frame.DataFrame'>\n",
    "RangeIndex: 3934 entries, 0 to 3933\n",
    "Data columns (total 14 columns):\n",
    " #   Column         Non-Null Count  Dtype  \n",
    "---  ------         --------------  -----  \n",
    " 0   ID             3934 non-null   object \n",
    " 1   C1             3934 non-null   object \n",
    " 2   C2             3934 non-null   object \n",
    " 3   C3             3934 non-null   object \n",
    " 4   C4             3934 non-null   object \n",
    " 5   Date           3934 non-null   object \n",
    " 6   Weekday        3934 non-null   int64  \n",
    " 7   Temperature    3934 non-null   float64\n",
    " 8   Humidity       3934 non-null   float64\n",
    " 9   Wind_Speed     3934 non-null   float64\n",
    " 10  Precipitation  3934 non-null   float64\n",
    " 11  Pressure       3934 non-null   float64\n",
    " 12  Visibility     3934 non-null   float64\n",
    " 13  Y              3934 non-null   int64  \n",
    "dtypes: float64(6), int64(2), object(6)\n",
    "memory usage: 430.4+ KB\n",
    "None"
   ]
  },
  {
   "cell_type": "markdown",
   "metadata": {},
   "source": [
    "['ConfusionMatrixDisplay', 'DetCurveDisplay', 'DistanceMetric', 'PrecisionRecallDisplay', 'PredictionErrorDisplay', 'RocCurveDisplay', '__all__', '__builtins__', '__cached__', '__doc__', '__file__', '__loader__', '__name__', '__package__', '__path__', '__spec__', '_base', '_classification', '_dist_metrics', '_pairwise_distances_reduction', '_pairwise_fast', '_plot', '_ranking', '_regression', '_scorer', 'accuracy_score', 'adjusted_mutual_info_score', 'adjusted_rand_score', 'auc', 'average_precision_score', 'balanced_accuracy_score', 'brier_score_loss', 'calinski_harabasz_score', 'check_scoring', 'class_likelihood_ratios', 'classification_report', 'cluster', 'cohen_kappa_score', 'completeness_score', 'confusion_matrix', 'consensus_score', 'coverage_error', 'd2_absolute_error_score', 'd2_log_loss_score', 'd2_pinball_score', 'd2_tweedie_score', 'davies_bouldin_score', 'dcg_score', 'det_curve', 'euclidean_distances', 'explained_variance_score', 'f1_score', 'fbeta_score', 'fowlkes_mallows_score', 'get_scorer', 'get_scorer_names', 'hamming_loss', 'hinge_loss', 'homogeneity_completeness_v_measure', 'homogeneity_score', 'jaccard_score', 'label_ranking_average_precision_score', 'label_ranking_loss', 'log_loss', 'make_scorer', 'matthews_corrcoef', 'max_error', 'mean_absolute_error', 'mean_absolute_percentage_error', 'mean_gamma_deviance', 'mean_pinball_loss', 'mean_poisson_deviance', 'mean_squared_error', 'mean_squared_log_error', 'mean_tweedie_deviance', 'median_absolute_error', 'multilabel_confusion_matrix', 'mutual_info_score', 'nan_euclidean_distances', 'ndcg_score', 'normalized_mutual_info_score', 'pair_confusion_matrix', 'pairwise', 'pairwise_distances', 'pairwise_distances_argmin', 'pairwise_distances_argmin_min', 'pairwise_distances_chunked', 'pairwise_kernels', 'precision_recall_curve', 'precision_recall_fscore_support', 'precision_score', 'r2_score', 'rand_score', 'recall_score', 'roc_auc_score', 'roc_curve', 'root_mean_squared_error', 'root_mean_squared_log_error', 'silhouette_samples', 'silhouette_score', 'top_k_accuracy_score', 'v_measure_score', 'zero_one_loss']"
   ]
  },
  {
   "cell_type": "code",
   "execution_count": 104,
   "metadata": {},
   "outputs": [
    {
     "name": "stdout",
     "output_type": "stream",
     "text": [
      "['ConfusionMatrixDisplay', 'DetCurveDisplay', 'DistanceMetric', 'PrecisionRecallDisplay', 'PredictionErrorDisplay', 'RocCurveDisplay', '__all__', '__builtins__', '__cached__', '__doc__', '__file__', '__loader__', '__name__', '__package__', '__path__', '__spec__', '_base', '_classification', '_dist_metrics', '_pairwise_distances_reduction', '_pairwise_fast', '_plot', '_ranking', '_regression', '_scorer', 'accuracy_score', 'adjusted_mutual_info_score', 'adjusted_rand_score', 'auc', 'average_precision_score', 'balanced_accuracy_score', 'brier_score_loss', 'calinski_harabasz_score', 'check_scoring', 'class_likelihood_ratios', 'classification_report', 'cluster', 'cohen_kappa_score', 'completeness_score', 'confusion_matrix', 'consensus_score', 'coverage_error', 'd2_absolute_error_score', 'd2_log_loss_score', 'd2_pinball_score', 'd2_tweedie_score', 'davies_bouldin_score', 'dcg_score', 'det_curve', 'euclidean_distances', 'explained_variance_score', 'f1_score', 'fbeta_score', 'fowlkes_mallows_score', 'get_scorer', 'get_scorer_names', 'hamming_loss', 'hinge_loss', 'homogeneity_completeness_v_measure', 'homogeneity_score', 'jaccard_score', 'label_ranking_average_precision_score', 'label_ranking_loss', 'log_loss', 'make_scorer', 'matthews_corrcoef', 'max_error', 'mean_absolute_error', 'mean_absolute_percentage_error', 'mean_gamma_deviance', 'mean_pinball_loss', 'mean_poisson_deviance', 'mean_squared_error', 'mean_squared_log_error', 'mean_tweedie_deviance', 'median_absolute_error', 'multilabel_confusion_matrix', 'mutual_info_score', 'nan_euclidean_distances', 'ndcg_score', 'normalized_mutual_info_score', 'pair_confusion_matrix', 'pairwise', 'pairwise_distances', 'pairwise_distances_argmin', 'pairwise_distances_argmin_min', 'pairwise_distances_chunked', 'pairwise_kernels', 'precision_recall_curve', 'precision_recall_fscore_support', 'precision_score', 'r2_score', 'rand_score', 'recall_score', 'roc_auc_score', 'roc_curve', 'root_mean_squared_error', 'root_mean_squared_log_error', 'silhouette_samples', 'silhouette_score', 'top_k_accuracy_score', 'v_measure_score', 'zero_one_loss']\n"
     ]
    }
   ],
   "source": [
    "import sklearn.metrics\n",
    "print(dir(sklearn.metrics))"
   ]
  },
  {
   "cell_type": "code",
   "execution_count": null,
   "metadata": {},
   "outputs": [
    {
     "name": "stdout",
     "output_type": "stream",
     "text": [
      "9.926709021601017\n",
      "       pred\n",
      "0     23.17\n",
      "1     45.52\n",
      "2     72.00\n",
      "3     76.09\n",
      "4    -22.19\n",
      "...     ...\n",
      "1295  32.96\n",
      "1296  -6.76\n",
      "1297  30.24\n",
      "1298  43.31\n",
      "1299 -30.73\n",
      "\n",
      "[1300 rows x 1 columns]\n"
     ]
    }
   ],
   "source": [
    "import pandas as pd\n",
    "train = pd.read_csv('https://raw.githubusercontent.com/Datamanim/datarepo/main/krdatacertificate/e8_p2_train2.csv')\n",
    "test = pd.read_csv('https://raw.githubusercontent.com/Datamanim/datarepo/main/krdatacertificate/e8_p2_test2.csv')\n",
    "\n",
    "#print(train.info())\n",
    "#print(test.info())\n",
    "\n",
    "target = train.pop('Y')\n",
    "train = train.drop(columns='ID', axis=1)  \n",
    "test = test.drop(columns='ID', axis=1)  \n",
    "\n",
    "from sklearn.preprocessing import LabelEncoder\n",
    "encoder = LabelEncoder()\n",
    "\n",
    "\n",
    "train['C1'] = encoder.fit_transform(train['C1'])\n",
    "test['C1'] = encoder.transform(test['C1'])\n",
    "train['C2'] = encoder.fit_transform(train['C2'])\n",
    "test['C2'] = encoder.transform(test['C2'])\n",
    "\n",
    "train['C3'] = encoder.fit_transform(train['C3'])\n",
    "test['C3'] = encoder.transform(test['C3'])\n",
    "\n",
    "train['C4'] = encoder.fit_transform(train['C4'])\n",
    "test['C4'] = encoder.transform(test['C4'])\n",
    "\n",
    "train['Date'] = encoder.fit_transform(train['Date'])\n",
    "test['Date'] = encoder.transform(test['Date'])\n",
    "\n",
    "\n",
    "# df = pd.concat([train,test])\n",
    "# df = pd.get_dummies(df)\n",
    "# train = df.iloc[:len(train)]\n",
    "# test = df.iloc[len(test):]\n",
    "# #print(train.shape, test.shape)\n",
    "\n",
    "from sklearn.model_selection import train_test_split\n",
    "x_train, x_val, y_train, y_val = train_test_split(train, target, test_size=0.2)\n",
    "#print(x_train.shape, x_val.shape, y_train.shape, y_val.shape)\n",
    "\n",
    "from sklearn.ensemble import RandomForestRegressor\n",
    "model = RandomForestRegressor()\n",
    "model.fit(x_train, y_train)\n",
    "pred = model.predict(x_val)\n",
    "\n",
    "from sklearn.metrics import mean_absolute_percentage_error\n",
    "mae = mean_absolute_error(y_val, pred)\n",
    "print(mae) # 11.395603557814486 # 9.926709021601017\n",
    "\n",
    "pred = model.predict(test)\n",
    "submit = pd.DataFrame({'pred' : pred})\n",
    "submit.to_csv(\"result.csv\", index=False)\n",
    "\n",
    "df = pd.read_csv(\"result.csv\")\n",
    "print(df)"
   ]
  },
  {
   "cell_type": "markdown",
   "metadata": {},
   "source": [
    "데이터 출처 : 자체 제작 데이터url = https://raw.githubusercontent.com/Datamanim/datarepo/main/krdatacertificate/e8_p3_1.csv 종속변수 : y"
   ]
  },
  {
   "cell_type": "code",
   "execution_count": null,
   "metadata": {},
   "outputs": [
    {
     "name": "stdout",
     "output_type": "stream",
     "text": [
      "Optimization terminated successfully.\n",
      "         Current function value: 0.062467\n",
      "         Iterations 10\n",
      "                           Logit Regression Results                           \n",
      "==============================================================================\n",
      "Dep. Variable:                      Y   No. Observations:                 2500\n",
      "Model:                          Logit   Df Residuals:                     2496\n",
      "Method:                           MLE   Df Model:                            3\n",
      "Date:                Sun, 15 Jun 2025   Pseudo R-squ.:                  0.9099\n",
      "Time:                        23:04:15   Log-Likelihood:                -156.17\n",
      "converged:                       True   LL-Null:                       -1732.9\n",
      "Covariance Type:            nonrobust   LLR p-value:                     0.000\n",
      "==============================================================================\n",
      "                 coef    std err          z      P>|z|      [0.025      0.975]\n",
      "------------------------------------------------------------------------------\n",
      "Intercept     -2.0523      0.546     -3.756      0.000      -3.123      -0.981\n",
      "X7            -1.1389      0.323     -3.525      0.000      -1.772      -0.506\n",
      "X8             0.7529      0.149      5.041      0.000       0.460       1.046\n",
      "X11            5.9960      0.326     18.374      0.000       5.356       6.636\n",
      "==============================================================================\n",
      "0.003\n"
     ]
    },
    {
     "name": "stderr",
     "output_type": "stream",
     "text": [
      "/tmp/ipykernel_3340230/3367790027.py:20: FutureWarning: Series.__getitem__ treating keys as positions is deprecated. In a future version, integer keys will always be treated as labels (consistent with DataFrame behavior). To access a value by position, use `ser.iloc[pos]`\n",
      "  print(round(oz[1].sum(),3))\n"
     ]
    }
   ],
   "source": [
    "import pandas as pd\n",
    "import numpy as np\n",
    "df=pd.read_csv('https://raw.githubusercontent.com/Datamanim/datarepo/main/krdatacertificate/e8_p3_1.csv')\n",
    "\n",
    "# from statsmodels.api import Logit\n",
    "# formula = 'Y ~ X1+X2+X3+X4+X5+X6+X7+X8+X9+X10+X11+X12+X13+X14'\n",
    "# result = Logit.from_formula(formula, df).fit()\n",
    "# r_values = result.pvalues\n",
    "# print(result.summary())\n",
    "#print(r_values)\n",
    "#1 . 5개\n",
    "from statsmodels.api import Logit\n",
    "formula = 'Y ~ X7+X8+X11'\n",
    "result = Logit.from_formula(formula, df).fit()\n",
    "r_values = result.pvalues\n",
    "print(result.summary())\n",
    "r_sum = result.params\n",
    "#print(round(r_sum.sum(),3)) # 3.558\n",
    "oz = np.exp(5*result.params)\n",
    "print(round(oz[1].sum(),3)) # 0.03배"
   ]
  },
  {
   "cell_type": "markdown",
   "metadata": {},
   "source": [
    "\n",
    "\n",
    "3-4\n",
    "\n",
    "PIQ를 예측하는 다중선형회귀 모형을 만들고 Brain의 회귀 계수를 구하여라\n",
    "\n",
    "3-5\n",
    "\n",
    "모델의 r2를 구하여라\n",
    "\n",
    "3-6\n",
    "\n",
    "위에서 계산한 모델을 이용하여 뇌크기 90 키 70 몸무게 150일 때 지능을 예측하라\n"
   ]
  },
  {
   "cell_type": "code",
   "execution_count": 57,
   "metadata": {},
   "outputs": [
    {
     "name": "stdout",
     "output_type": "stream",
     "text": [
      "105.63556929993527\n"
     ]
    }
   ],
   "source": [
    "import pandas as pd \n",
    "df= pd.read_csv('https://raw.githubusercontent.com/Datamanim/datarepo/main/krdatacertificate/e8_p3_2.csv')\n",
    "#df.head()\n",
    "import numpy as np\n",
    "from statsmodels.api import OLS\n",
    "formula = 'PIQ ~ Brain + Height + Weight'\n",
    "result = OLS.from_formula(formula, df).fit()\n",
    "#print(result.summary()) \n",
    "# print(result.params[1]) # 2.06036679789495 #  0.285\n",
    "\n",
    "new_data = pd.DataFrame({'Brain' : [90], 'Height' : [70], 'Weight' : [150]})\n",
    "result1 = result.predict(new_data)\n",
    "print(result1[0])"
   ]
  }
 ],
 "metadata": {
  "kernelspec": {
   "display_name": "Python (mini)",
   "language": "python",
   "name": "mini"
  },
  "language_info": {
   "codemirror_mode": {
    "name": "ipython",
    "version": 3
   },
   "file_extension": ".py",
   "mimetype": "text/x-python",
   "name": "python",
   "nbconvert_exporter": "python",
   "pygments_lexer": "ipython3",
   "version": "3.9.21"
  }
 },
 "nbformat": 4,
 "nbformat_minor": 2
}
