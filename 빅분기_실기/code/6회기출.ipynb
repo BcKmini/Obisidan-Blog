{
 "cells": [
  {
   "cell_type": "markdown",
   "metadata": {},
   "source": [
    "1-1 각 구급 보고서 별 출동시각과 신고시각의 차이를 ‘소요시간’ 컬럼을 만들고 초(sec)단위로 구하고 소방서명 별 소요시간의 평균을 오름차순으로 정렬 했을때 3번째로 작은 소요시간의 값과 소방서명을 출력하라"
   ]
  },
  {
   "cell_type": "code",
   "execution_count": null,
   "metadata": {},
   "outputs": [],
   "source": [
    "df.head(5)"
   ]
  },
  {
   "cell_type": "code",
   "execution_count": null,
   "metadata": {},
   "outputs": [],
   "source": [
    "import pandas as pd\n",
    "df = pd.read_csv('https://raw.githubusercontent.com/Datamanim/datarepo/main/krdatacertificate/e6_p1_1.csv')\n",
    "\n",
    "df['소요시각'] = (\n",
    "                pd.to_datetime(\n",
    "                    df['출동일자'].astype('str') + df['출동시각'].astype('str').str.zfill(6)\n",
    "                )\n",
    "\n",
    "                - \n",
    "    \n",
    "                pd.to_datetime(\n",
    "                    df['신고일자'].astype('str') + df['신고시각'].astype('str').str.zfill(6)\n",
    "                )\n",
    "                ).dt.total_seconds()\n",
    "\n",
    "\n",
    "result = df.groupby(['소방서명'])['소요시각'].mean().sort_values().reset_index().iloc[2].values\n",
    "print(result)"
   ]
  },
  {
   "cell_type": "markdown",
   "metadata": {},
   "source": [
    "1-2 학교 세부유형이 일반중학교인 학교들 중 일반중학교 숫자가 2번째로 많은 시도의 일반중학교 데이터만 필터하여 해당 시도의 교원 한명 당 맡은 학생수가 가장 많은 학교를 찾아서 해당 학교의 교원수를 출력하라"
   ]
  },
  {
   "cell_type": "code",
   "execution_count": null,
   "metadata": {},
   "outputs": [],
   "source": [
    "import pandas as pd\n",
    "df = pd.read_csv('https://raw.githubusercontent.com/Datamanim/datarepo/main/krdatacertificate/e6_p1_2.csv')\n",
    "#df.head(5)\n",
    "\n",
    "df1 = df[df['학교세부유형']=='일반중학교'].시도.value_counts().index[1]\n",
    "df2 = df[(df['학교세부유형'] == '일반중학교') & (df['시도'] == df1)].reset_index()\n",
    "df2.loc[:,'ratio'] = (df2['일반학급_학생수_계'] / df2['교원수_총계_계']).values\n",
    "df2 = df2.sort_values('ratio').dropna()\n",
    "result = df2['교원수_총계_계'].values[-1]\n",
    "print(result)"
   ]
  },
  {
   "cell_type": "markdown",
   "metadata": {},
   "source": [
    "건강 상태 분류문제 : https://www.kaggle.com/datasets/alphiree/cardiovascular-diseases-risk-prediction-dataset train = https://raw.githubusercontent.com/Datamanim/datarepo/main/krdatacertificate/ep6_p2_train.csv test = https://raw.githubusercontent.com/Datamanim/datarepo/main/krdatacertificate/ep6_p2_test.csv\n",
    "\n",
    "예측 변수 General_Health, test.csv에 대해 ID별로 General_Health 값을 예측하여 제출, 제출 데이터 컬럼은 ID와 General_Health 두개만 존재해야함. 평가지표는 f1score"
   ]
  },
  {
   "cell_type": "code",
   "execution_count": null,
   "metadata": {},
   "outputs": [],
   "source": [
    "import pandas as pd\n",
    "train = pd.read_csv('https://raw.githubusercontent.com/Datamanim/datarepo/main/krdatacertificate/ep6_p2_train.csv')\n",
    "test = pd.read_csv('https://raw.githubusercontent.com/Datamanim/datarepo/main/krdatacertificate/ep6_p2_test.csv')\n",
    "\n",
    "# display(train.head(2))\n",
    "# # test.head(2)\n",
    "# print(train.info())\n",
    "# # print(test.info())\n",
    "# print(train.isnull().sum())\n",
    "# print(test.isnull().sum())\n",
    "test_id = test['ID'].copy()\n",
    "\n",
    "target = train.pop('General_Health')\n",
    "\n",
    "# ID 컬럼 제거 후 전처리\n",
    "# train = train.drop(columns=['ID'])\n",
    "# test = test.drop(columns=['ID'])\n",
    "\n",
    "# 원본 길이 반드시 저장\n",
    "train_len = len(train)\n",
    "test_len = len(test)\n",
    "\n",
    "df = pd.concat([train, test])\n",
    "df = pd.get_dummies(df)\n",
    "train = df.iloc[:train_len]\n",
    "test = df.iloc[train_len:train_len+test_len]\n",
    "\n",
    "from sklearn.model_selection import train_test_split\n",
    "x_train, x_val, y_train, y_val = train_test_split(train, target, test_size = 0.2)\n",
    "#print(x_train.shape, x_val.shape, y_train.shape, y_val.shape)\n",
    "\n",
    "\n",
    "from sklearn.ensemble import RandomForestClassifier\n",
    "model = RandomForestClassifier()\n",
    "model.fit(x_train, y_train)\n",
    "pred = model.predict(x_val)\n",
    "\n",
    "from sklearn.metrics import f1_score\n",
    "f1 = f1_score(y_val, pred, average='micro')\n",
    "print(f1)\n",
    "\n",
    "pred1 = model.predict(test)\n",
    "submit = pd.DataFrame()\n",
    "submit['ID'] = test_id\n",
    "submit['General_Health'] = pred1\n",
    "submit.head(5)"
   ]
  },
  {
   "cell_type": "markdown",
   "metadata": {},
   "source": [
    "A 도시의 남성 600명과 여성 550명이 있다. 남성들 중 흡연자 비율은 0.2이며 여성들 중 흡연자 비율은 0.26이다.    \n",
    "남성과 여성 간에 흡연 여부에 따른 인구 비율이 다른지 확인하고 싶다. 유의 수준 0.05하 귀무가설에 대해 기각 / 채택 여부와 p-value값을 각각 출력하라"
   ]
  },
  {
   "cell_type": "code",
   "execution_count": 139,
   "metadata": {},
   "outputs": [
    {
     "name": "stdout",
     "output_type": "stream",
     "text": [
      "Unexpected exception formatting exception. Falling back to standard exception\n"
     ]
    },
    {
     "name": "stderr",
     "output_type": "stream",
     "text": [
      "Traceback (most recent call last):\n",
      "  File \"/home/mini/miniconda3/envs/mini/lib/python3.9/site-packages/patsy/compat.py\", line 40, in call_and_wrap_exc\n",
      "    return f(*args, **kwargs)\n",
      "  File \"/home/mini/miniconda3/envs/mini/lib/python3.9/site-packages/patsy/eval.py\", line 179, in eval\n",
      "    return eval(code, {}, VarLookupDict([inner_namespace] + self._namespaces))\n",
      "  File \"<string>\", line 1, in <module>\n",
      "  File \"/home/mini/miniconda3/envs/mini/lib/python3.9/site-packages/patsy/eval.py\", line 53, in __getitem__\n",
      "    return d[key]\n",
      "  File \"/home/mini/miniconda3/envs/mini/lib/python3.9/site-packages/patsy/eval.py\", line 53, in __getitem__\n",
      "    return d[key]\n",
      "TypeError: list indices must be integers or slices, not str\n",
      "\n",
      "The above exception was the direct cause of the following exception:\n",
      "\n",
      "Traceback (most recent call last):\n",
      "  File \"/home/mini/miniconda3/envs/mini/lib/python3.9/site-packages/statsmodels/base/model.py\", line 1102, in _transform_predict_exog\n",
      "    exog = dmatrix(design_info, exog, return_type=\"dataframe\")\n",
      "  File \"/home/mini/miniconda3/envs/mini/lib/python3.9/site-packages/patsy/highlevel.py\", line 296, in dmatrix\n",
      "    (lhs, rhs) = _do_highlevel_design(\n",
      "  File \"/home/mini/miniconda3/envs/mini/lib/python3.9/site-packages/patsy/highlevel.py\", line 168, in _do_highlevel_design\n",
      "    return build_design_matrices(\n",
      "  File \"/home/mini/miniconda3/envs/mini/lib/python3.9/site-packages/patsy/build.py\", line 954, in build_design_matrices\n",
      "    value, is_NA = _eval_factor(factor_info, data, NA_action)\n",
      "  File \"/home/mini/miniconda3/envs/mini/lib/python3.9/site-packages/patsy/build.py\", line 68, in _eval_factor\n",
      "    result = factor.eval(factor_info.state, data)\n",
      "  File \"/home/mini/miniconda3/envs/mini/lib/python3.9/site-packages/patsy/eval.py\", line 599, in eval\n",
      "    return self._eval(memorize_state[\"eval_code\"], memorize_state, data)\n",
      "  File \"/home/mini/miniconda3/envs/mini/lib/python3.9/site-packages/patsy/eval.py\", line 582, in _eval\n",
      "    return call_and_wrap_exc(\n",
      "  File \"/home/mini/miniconda3/envs/mini/lib/python3.9/site-packages/patsy/compat.py\", line 43, in call_and_wrap_exc\n",
      "    raise new_exc from e\n",
      "patsy.PatsyError: Error evaluating factor: TypeError: list indices must be integers or slices, not str\n",
      "    weight ~ age + Cholesterol\n",
      "             ^^^\n",
      "\n",
      "During handling of the above exception, another exception occurred:\n",
      "\n",
      "Traceback (most recent call last):\n",
      "  File \"/home/mini/miniconda3/envs/mini/lib/python3.9/site-packages/IPython/core/interactiveshell.py\", line 3550, in run_code\n",
      "    exec(code_obj, self.user_global_ns, self.user_ns)\n",
      "  File \"/tmp/ipykernel_3298492/1626800427.py\", line 16, in <module>\n",
      "    pred = result.predict([1,55,72.6])\n",
      "  File \"/home/mini/miniconda3/envs/mini/lib/python3.9/site-packages/statsmodels/base/model.py\", line 1171, in predict\n",
      "    exog, exog_index = self._transform_predict_exog(exog,\n",
      "  File \"/home/mini/miniconda3/envs/mini/lib/python3.9/site-packages/statsmodels/base/model.py\", line 1109, in _transform_predict_exog\n",
      "    raise exc.__class__(msg)\n",
      "patsy.PatsyError: predict requires that you use a DataFrame when predicting from a model\n",
      "that was created using the formula api.\n",
      "\n",
      "The original error message returned by patsy is:\n",
      "Error evaluating factor: TypeError: list indices must be integers or slices, not str\n",
      "    weight ~ age + Cholesterol\n",
      "             ^^^\n",
      "\n",
      "During handling of the above exception, another exception occurred:\n",
      "\n",
      "Traceback (most recent call last):\n",
      "  File \"/home/mini/miniconda3/envs/mini/lib/python3.9/site-packages/IPython/core/interactiveshell.py\", line 2144, in showtraceback\n",
      "    stb = self.InteractiveTB.structured_traceback(\n",
      "  File \"/home/mini/miniconda3/envs/mini/lib/python3.9/site-packages/IPython/core/ultratb.py\", line 1435, in structured_traceback\n",
      "    return FormattedTB.structured_traceback(\n",
      "  File \"/home/mini/miniconda3/envs/mini/lib/python3.9/site-packages/IPython/core/ultratb.py\", line 1326, in structured_traceback\n",
      "    return VerboseTB.structured_traceback(\n",
      "  File \"/home/mini/miniconda3/envs/mini/lib/python3.9/site-packages/IPython/core/ultratb.py\", line 1192, in structured_traceback\n",
      "    formatted_exceptions += self.format_exception_as_a_whole(etype, evalue, etb, lines_of_context,\n",
      "  File \"/home/mini/miniconda3/envs/mini/lib/python3.9/site-packages/IPython/core/ultratb.py\", line 1075, in format_exception_as_a_whole\n",
      "    record.frame.f_locals.get(\"__tracebackhide__\", 0)\n",
      "  File \"/home/mini/miniconda3/envs/mini/lib/python3.9/site-packages/patsy/eval.py\", line 71, in get\n",
      "    return self[key]\n",
      "  File \"/home/mini/miniconda3/envs/mini/lib/python3.9/site-packages/patsy/eval.py\", line 53, in __getitem__\n",
      "    return d[key]\n",
      "  File \"/home/mini/miniconda3/envs/mini/lib/python3.9/site-packages/patsy/eval.py\", line 53, in __getitem__\n",
      "    return d[key]\n",
      "TypeError: list indices must be integers or slices, not str\n"
     ]
    }
   ],
   "source": [
    "import pandas as pd \n",
    "df= pd.read_csv('https://raw.githubusercontent.com/Datamanim/datarepo/main/adp/28/p7.csv')\n",
    "# df.head()\n",
    "\n",
    "from statsmodels.api import OLS\n",
    "\n",
    "formula = 'weight ~ age + Cholesterol'\n",
    "result = OLS.from_formula(formula, df).fit()\n",
    "\n",
    "#print(result.summary())\n",
    "#print(result.params['age'])\n",
    "\n",
    "p = result.pvalues['Cholesterol']\n",
    "# print(p)\n",
    "\n",
    "pred = result.predict([1,55,72.6])\n",
    "print(pred[0])"
   ]
  }
 ],
 "metadata": {
  "kernelspec": {
   "display_name": "Python (mini)",
   "language": "python",
   "name": "mini"
  },
  "language_info": {
   "codemirror_mode": {
    "name": "ipython",
    "version": 3
   },
   "file_extension": ".py",
   "mimetype": "text/x-python",
   "name": "python",
   "nbconvert_exporter": "python",
   "pygments_lexer": "ipython3",
   "version": "3.9.21"
  }
 },
 "nbformat": 4,
 "nbformat_minor": 2
}
