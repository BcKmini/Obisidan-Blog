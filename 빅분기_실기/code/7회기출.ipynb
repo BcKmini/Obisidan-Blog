{
 "cells": [
  {
   "cell_type": "markdown",
   "metadata": {},
   "source": [
    "#### DataUrl = https://raw.githubusercontent.com/Datamanim/datarepo/main/krdatacertificate/e7_p1.csv    \n",
    "#### 데이터 출처 : 자체 제작 데이터 설명 : 학생 15명의 국어,수학,영어,과학 시험 점수이다. 각 학생은 4과목 중 3과목을 선택해서 시험봤다.  "
   ]
  },
  {
   "cell_type": "code",
   "execution_count": null,
   "metadata": {},
   "outputs": [],
   "source": [
    "import pandas as pd\n",
    "df = pd.read_csv('https://raw.githubusercontent.com/Datamanim/datarepo/main/krdatacertificate/e7_p1.csv')\n",
    "df.info()"
   ]
  },
  {
   "cell_type": "markdown",
   "metadata": {},
   "source": [
    "#### 국어,수학,영어,과학 과목 중 가장 많은 학생들이 응시한 시험을 선택하고 해당과목의 점수를 표준화 했을 때 가장 큰 표준화 점수를 구하여라"
   ]
  },
  {
   "cell_type": "code",
   "execution_count": null,
   "metadata": {},
   "outputs": [],
   "source": [
    "print(df.isnull().sum()) # 국어가 가장 적음 가장 많이 응시함\n",
    "\n",
    "import numpy as np\n",
    "sub = df.iloc[:,1:].count().idxmax()\n",
    "std = df[sub]\n",
    "r = ((df[sub] - df[sub].mean()) / df[sub].std(ddof=0)).max()  # 모표준편차 ddof=0\n",
    "#print(r)\n",
    "\n",
    "\n",
    "# scipy\n",
    "from scipy.stats import zscore\n",
    "result = zscore(df[sub].dropna()).max()\n",
    "print(result)"
   ]
  },
  {
   "cell_type": "markdown",
   "metadata": {},
   "source": [
    "#### 32개의 변수간 상관관계를 확인 했을 때, var_11 컬럼과 상관계수의 절댓값이 가장 큰 변수를 찾아 해당 변수의 평균값을 구하여라"
   ]
  },
  {
   "cell_type": "code",
   "execution_count": null,
   "metadata": {},
   "outputs": [],
   "source": [
    "import pandas as pd\n",
    "df = pd.read_csv('https://raw.githubusercontent.com/Datamanim/datarepo/main/krdatacertificate/e7_p2_.csv')\n",
    "df.head(5)"
   ]
  },
  {
   "cell_type": "markdown",
   "metadata": {},
   "source": [
    "#### var_6 컬럼의 1,3사분위수 각각 IQR의 1.5배 벗어난 이상치의 숫자를 구하라 "
   ]
  },
  {
   "cell_type": "code",
   "execution_count": null,
   "metadata": {},
   "outputs": [],
   "source": [
    "import pandas as pd\n",
    "df = pd.read_csv('https://raw.githubusercontent.com/Datamanim/datarepo/main/krdatacertificate/e7_p3.csv')\n",
    "df.head(5)"
   ]
  },
  {
   "cell_type": "code",
   "execution_count": null,
   "metadata": {},
   "outputs": [],
   "source": [
    "q1 = df['var_6'].quantile(0.25)\n",
    "q2 = df['var_6'].quantile(0.75)\n",
    "\n",
    "IQR = q2 - q1\n",
    "\n",
    "under = q1 - 1.5 * IQR\n",
    "over = q2 + 1.5 * IQR\n",
    "\n",
    "result = df[(df['var_6'] < under) | (df['var_6'] > over)].shape[0]\n",
    "print(result)"
   ]
  },
  {
   "cell_type": "markdown",
   "metadata": {},
   "source": [
    "제주업종별카드이용정보 : https://www.jejudatahub.net/data/view/data/1048 후처리 train = https://raw.githubusercontent.com/Datamanim/datarepo/main/krdatacertificate/e7_p2_train2.csv test = https://raw.githubusercontent.com/Datamanim/datarepo/main/krdatacertificate/e7_p2_test2.csv\n",
    "\n",
    "종속변수 :이용금액 , 평가지표 : rmse"
   ]
  },
  {
   "cell_type": "code",
   "execution_count": null,
   "metadata": {},
   "outputs": [],
   "source": [
    "import pandas as pd\n",
    "train = pd.read_csv('https://raw.githubusercontent.com/Datamanim/datarepo/main/krdatacertificate/e7_p2_train2.csv')\n",
    "test = pd.read_csv('https://raw.githubusercontent.com/Datamanim/datarepo/main/krdatacertificate/e7_p2_test2.csv')\n",
    "\n",
    "display(train.head(2))\n",
    "test.head(2)"
   ]
  },
  {
   "cell_type": "code",
   "execution_count": null,
   "metadata": {},
   "outputs": [],
   "source": [
    "#print(train.info(), test.info())"
   ]
  },
  {
   "cell_type": "code",
   "execution_count": null,
   "metadata": {},
   "outputs": [],
   "source": [
    "import sklearn\n",
    "print(sklearn.__all__)"
   ]
  },
  {
   "cell_type": "code",
   "execution_count": null,
   "metadata": {},
   "outputs": [],
   "source": [
    "import pandas as pd\n",
    "train = pd.read_csv('https://raw.githubusercontent.com/Datamanim/datarepo/main/krdatacertificate/e7_p2_train2.csv')\n",
    "test = pd.read_csv('https://raw.githubusercontent.com/Datamanim/datarepo/main/krdatacertificate/e7_p2_test2.csv')\n",
    "\n",
    "target = train.pop('이용금액')\n",
    "\n",
    "df = pd.concat([train, test])\n",
    "df = pd.get_dummies(df)\n",
    "\n",
    "train = df.iloc[:len(train)]\n",
    "test = df.iloc[len(test):]\n",
    "\n",
    "# print(train.shape, test.shape)\n",
    "\n",
    "from sklearn.model_selection import train_test_split\n",
    "x_train, x_val, y_train, y_val = train_test_split(train, target, test_size=0.2)\n",
    "#print(x_train.shape, x_val.shape, y_train.shape, y_val.shape)\n",
    "\n",
    "from sklearn.ensemble import RandomForestRegressor\n",
    "model = RandomForestRegressor()\n",
    "model.fit(x_train, y_train)\n",
    "pred = model.predict(x_val)\n",
    "\n",
    "from sklearn.metrics import root_mean_squared_error \n",
    "rmse = root_mean_squared_error(y_val, pred)\n",
    "print(rmse)\n",
    "\n",
    "pred = model.predict(test)\n",
    "submit = pd.DataFrame({'pred' : pred})\n",
    "submit.to_csv(\"result1.csv\", index=False)\n",
    "\n",
    "df = pd.read_csv(\"result1.csv\")\n",
    "print(df)\n"
   ]
  },
  {
   "cell_type": "markdown",
   "metadata": {},
   "source": [
    "선형관계 가장 큰 변수 찾아 상관계수를 구하여라"
   ]
  },
  {
   "cell_type": "code",
   "execution_count": null,
   "metadata": {},
   "outputs": [],
   "source": [
    "import pandas as pd\n",
    "import numpy as np\n",
    "df=pd.read_csv('https://raw.githubusercontent.com/Datamanim/datarepo/main/krdatacertificate/e7_p3_1.csv')\n",
    "df.head()\n",
    "\n",
    "r = df.corr()['Target']\n",
    "\n",
    "from statsmodels.api import OLS\n",
    "\n",
    "formula = 'Target ~ v1 + v2 + v3 + v4 + v5 + v6 + v7 + v8 +v9 +v10+ v11 +v12+ v13+ v14 +v15+ v16+ v17 +v18 +v19+ v20 +v21'\n",
    "result = OLS.from_formula(formula, df).fit()\n",
    "# print(result.summary()) v3\n",
    "\n",
    "r = result.pvalues\n",
    "r.max()"
   ]
  },
  {
   "cell_type": "markdown",
   "metadata": {},
   "source": [
    "#### 1. train 데이터로 target을 종속변수로 로지스틱 회귀를 진행할 때 age 컬럼의 오즈비를 구하여라"
   ]
  },
  {
   "cell_type": "markdown",
   "metadata": {},
   "source": [
    "심장병 발병 예측 / 종속변수 target 1: 발병\n",
    "\n",
    "데이터 출처 : uci머신러닝 데이터 url : https://raw.githubusercontent.com/Datamanim/datarepo/main/krdatacertificate/e7_p3_t.csv train 데이터는 앞의 210개 행을, test데이터는 나머지 부분을 사용한다"
   ]
  },
  {
   "cell_type": "code",
   "execution_count": null,
   "metadata": {},
   "outputs": [],
   "source": [
    "import pandas as pd \n",
    "import numpy as np\n",
    "import statsmodels.api as sm\n",
    "from statsmodels.api import Logit\n",
    "df= pd.read_csv('https://raw.githubusercontent.com/Datamanim/datarepo/main/krdatacertificate/e7_p3_t.csv')\n",
    "train = df.iloc[:210]\n",
    "test = df.iloc[210:]\n",
    "\n",
    "x = train.drop('target', axis= 1)\n",
    "y = train['target']\n",
    "\n",
    "model = sm.Logit(y, x).fit()\n",
    "\n",
    "np.exp(model.params['age'])"
   ]
  },
  {
   "cell_type": "code",
   "execution_count": 67,
   "metadata": {},
   "outputs": [
    {
     "name": "stdout",
     "output_type": "stream",
     "text": [
      "Optimization terminated successfully.\n",
      "         Current function value: 0.570854\n",
      "         Iterations 6\n",
      "                           Logit Regression Results                           \n",
      "==============================================================================\n",
      "Dep. Variable:               Survived   No. Observations:                  714\n",
      "Model:                          Logit   Df Residuals:                      708\n",
      "Method:                           MLE   Df Model:                            5\n",
      "Date:                Sun, 15 Jun 2025   Pseudo R-squ.:                  0.1548\n",
      "Time:                        18:46:21   Log-Likelihood:                -407.59\n",
      "converged:                       True   LL-Null:                       -482.26\n",
      "Covariance Type:            nonrobust   LLR p-value:                 1.848e-30\n",
      "==============================================================================\n",
      "                 coef    std err          z      P>|z|      [0.025      0.975]\n",
      "------------------------------------------------------------------------------\n",
      "Intercept      3.4010      0.505      6.732      0.000       2.411       4.391\n",
      "Pclass        -1.1530      0.146     -7.900      0.000      -1.439      -0.867\n",
      "Age           -0.0446      0.007     -6.181      0.000      -0.059      -0.030\n",
      "Parch          0.2479      0.109      2.273      0.023       0.034       0.462\n",
      "SibSp         -0.2923      0.106     -2.755      0.006      -0.500      -0.084\n",
      "Fare           0.0033      0.003      1.299      0.194      -0.002       0.008\n",
      "==============================================================================\n"
     ]
    }
   ],
   "source": [
    "import pandas as pd \n",
    "import numpy as np\n",
    "from statsmodels.api import Logit\n",
    "\n",
    "df = pd.read_csv('./csv/train.csv')\n",
    "\n",
    "formula = ' Survived ~ Pclass + Age + Parch + SibSp + Fare'\n",
    "result = Logit.from_formula(formula, df).fit()\n",
    "print(result.summary())"
   ]
  },
  {
   "cell_type": "code",
   "execution_count": 76,
   "metadata": {},
   "outputs": [
    {
     "name": "stdout",
     "output_type": "stream",
     "text": [
      "Optimization terminated successfully.\n",
      "         Current function value: 0.572247\n",
      "         Iterations 6\n",
      "                           Logit Regression Results                           \n",
      "==============================================================================\n",
      "Dep. Variable:               Survived   No. Observations:                  714\n",
      "Model:                          Logit   Df Residuals:                      709\n",
      "Method:                           MLE   Df Model:                            4\n",
      "Date:                Sun, 15 Jun 2025   Pseudo R-squ.:                  0.1528\n",
      "Time:                        18:51:39   Log-Likelihood:                -408.58\n",
      "converged:                       True   LL-Null:                       -482.26\n",
      "Covariance Type:            nonrobust   LLR p-value:                 7.534e-31\n",
      "==============================================================================\n",
      "                 coef    std err          z      P>|z|      [0.025      0.975]\n",
      "------------------------------------------------------------------------------\n",
      "Intercept      3.7520      0.437      8.581      0.000       2.895       4.609\n",
      "Pclass        -1.2663      0.121    -10.476      0.000      -1.503      -1.029\n",
      "Age           -0.0452      0.007     -6.279      0.000      -0.059      -0.031\n",
      "Parch          0.2808      0.106      2.658      0.008       0.074       0.488\n",
      "SibSp         -0.2733      0.104     -2.618      0.009      -0.478      -0.069\n",
      "==============================================================================\n",
      "2.4481071653546906\n",
      "0.8\n"
     ]
    },
    {
     "name": "stderr",
     "output_type": "stream",
     "text": [
      "/tmp/ipykernel_3281757/2920293235.py:12: FutureWarning: Series.__getitem__ treating keys as positions is deprecated. In a future version, integer keys will always be treated as labels (consistent with DataFrame behavior). To access a value by position, use `ser.iloc[pos]`\n",
      "  print(round(oz[2].sum(),2))\n"
     ]
    }
   ],
   "source": [
    "import pandas as pd \n",
    "import numpy as np\n",
    "from statsmodels.api import Logit\n",
    "\n",
    "df = pd.read_csv('./csv/train.csv')\n",
    "\n",
    "formula = ' Survived ~ Pclass + Age + Parch + SibSp'\n",
    "result = Logit.from_formula(formula, df).fit()\n",
    "print(result.summary())\n",
    "print(result.params.sum())\n",
    "oz = np.exp(5*result.params)\n",
    "print(round(oz[2].sum(),2))"
   ]
  }
 ],
 "metadata": {
  "kernelspec": {
   "display_name": "Python (mini)",
   "language": "python",
   "name": "mini"
  },
  "language_info": {
   "codemirror_mode": {
    "name": "ipython",
    "version": 3
   },
   "file_extension": ".py",
   "mimetype": "text/x-python",
   "name": "python",
   "nbconvert_exporter": "python",
   "pygments_lexer": "ipython3",
   "version": "3.9.21"
  }
 },
 "nbformat": 4,
 "nbformat_minor": 2
}
